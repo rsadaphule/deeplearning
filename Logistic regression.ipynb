{
 "cells": [
  {
   "cell_type": "code",
   "execution_count": 37,
   "metadata": {},
   "outputs": [],
   "source": [
    "import torch\n",
    "import torch.nn as nn\n",
    "import torchvision.transforms as transforms\n",
    "import torchvision.datasets as dsets\n",
    "from torch.autograd import Variable\n",
    "import matplotlib.pyplot as plt\n",
    "%matplotlib inline\n",
    "import numpy as np"
   ]
  },
  {
   "cell_type": "code",
   "execution_count": 45,
   "metadata": {},
   "outputs": [],
   "source": [
    "train_dataset = dsets.MNIST(root=\"./data\",\n",
    "                           train=True,\n",
    "                           transform=transforms.ToTensor(),\n",
    "                           download=True)"
   ]
  },
  {
   "cell_type": "code",
   "execution_count": 46,
   "metadata": {},
   "outputs": [
    {
     "data": {
      "text/plain": [
       "60000"
      ]
     },
     "execution_count": 46,
     "metadata": {},
     "output_type": "execute_result"
    }
   ],
   "source": [
    "len(train_dataset)"
   ]
  },
  {
   "cell_type": "code",
   "execution_count": 47,
   "metadata": {},
   "outputs": [
    {
     "name": "stdout",
     "output_type": "stream",
     "text": [
      "2\n"
     ]
    },
    {
     "data": {
      "text/plain": [
       "<matplotlib.image.AxesImage at 0x112b3aa58>"
      ]
     },
     "execution_count": 47,
     "metadata": {},
     "output_type": "execute_result"
    },
    {
     "data": {
      "image/png": "[encoded data removed]",
      "text/plain": [
       "<Figure size 432x288 with 1 Axes>"
      ]
     },
     "metadata": {},
     "output_type": "display_data"
    }
   ],
   "source": [
    "show_img = train_dataset.train_data[5].numpy().reshape(28,28)\n",
    "label = train_dataset.train_labels[5]\n",
    "print(label)\n",
    "plt.imshow(show_img)\n"
   ]
  },
  {
   "cell_type": "code",
   "execution_count": 119,
   "metadata": {},
   "outputs": [],
   "source": [
    "test_dataset = dsets.MNIST(\"./data\",\n",
    "                          train=False,\n",
    "                          transform = transforms.ToTensor(),\n",
    "                          download=True)"
   ]
  },
  {
   "cell_type": "code",
   "execution_count": 120,
   "metadata": {},
   "outputs": [
    {
     "data": {
      "text/plain": [
       "10000"
      ]
     },
     "execution_count": 120,
     "metadata": {},
     "output_type": "execute_result"
    }
   ],
   "source": [
    "len(test_dataset)"
   ]
  },
  {
   "cell_type": "code",
   "execution_count": 172,
   "metadata": {},
   "outputs": [
    {
     "name": "stdout",
     "output_type": "stream",
     "text": [
      "9\n"
     ]
    },
    {
     "data": {
      "text/plain": [
       "<matplotlib.image.AxesImage at 0x114ab4b00>"
      ]
     },
     "execution_count": 172,
     "metadata": {},
     "output_type": "execute_result"
    },
    {
     "data": {
      "image/png": "[encoded data removed]",
      "text/plain": [
       "<Figure size 432x288 with 1 Axes>"
      ]
     },
     "metadata": {},
     "output_type": "display_data"
    }
   ],
   "source": [
    "show_img = test_dataset.test_data[7].numpy().reshape(28,28)\n",
    "label = test_dataset.test_labels[7]\n",
    "print(label)\n",
    "plt.imshow(show_img)\n"
   ]
  },
  {
   "cell_type": "code",
   "execution_count": 56,
   "metadata": {},
   "outputs": [
    {
     "data": {
      "text/plain": [
       "torch.Size([28, 28])"
      ]
     },
     "execution_count": 56,
     "metadata": {},
     "output_type": "execute_result"
    }
   ],
   "source": [
    "test_dataset.test_data[1].size()"
   ]
  },
  {
   "cell_type": "code",
   "execution_count": 123,
   "metadata": {},
   "outputs": [
    {
     "name": "stdout",
     "output_type": "stream",
     "text": [
      "5.0\n"
     ]
    }
   ],
   "source": [
    "batch_size=100\n",
    "n_iters=3000\n",
    "num_epochs = n_iters / (len(train_dataset)/batch_size)\n",
    "print(num_epochs)"
   ]
  },
  {
   "cell_type": "code",
   "execution_count": 124,
   "metadata": {},
   "outputs": [],
   "source": [
    "train_loader = torch.utils.data.DataLoader(dataset=train_dataset,\n",
    "                                          batch_size = batch_size,\n",
    "                                          shuffle=True)\n",
    "\n",
    "\n",
    "test_loader = torch.utils.data.DataLoader(dataset=test_dataset,\n",
    "                                          batch_size = batch_size,\n",
    "                                          shuffle=True)"
   ]
  },
  {
   "cell_type": "code",
   "execution_count": 125,
   "metadata": {},
   "outputs": [],
   "source": [
    "import collections"
   ]
  },
  {
   "cell_type": "code",
   "execution_count": 126,
   "metadata": {},
   "outputs": [
    {
     "data": {
      "text/plain": [
       "True"
      ]
     },
     "execution_count": 126,
     "metadata": {},
     "output_type": "execute_result"
    }
   ],
   "source": [
    "isinstance(train_loader, collections.Iterable)"
   ]
  },
  {
   "cell_type": "code",
   "execution_count": 127,
   "metadata": {},
   "outputs": [],
   "source": [
    "class LogisticRegressionModel(nn.Module):\n",
    "    def __init__(self, input_dim, output_dim):\n",
    "        super(LogisticRegressionModel, self).__init__()\n",
    "        self.linear = nn.Linear(input_dim, output_dim)\n",
    "        \n",
    "    def forward(self, x):\n",
    "        out = self.linear(x)\n",
    "        return out\n",
    "        "
   ]
  },
  {
   "cell_type": "code",
   "execution_count": 128,
   "metadata": {},
   "outputs": [],
   "source": [
    "input_dim = 28*28\n",
    "output_dim = 10\n",
    "model = LogisticRegressionModel(input_dim, output_dim)"
   ]
  },
  {
   "cell_type": "code",
   "execution_count": 129,
   "metadata": {},
   "outputs": [],
   "source": [
    "criterion = nn.CrossEntropyLoss()"
   ]
  },
  {
   "cell_type": "code",
   "execution_count": 130,
   "metadata": {},
   "outputs": [],
   "source": [
    "learning_rate = 0.001\n",
    "optimizer = torch.optim.SGD(model.parameters(), lr=learning_rate)"
   ]
  },
  {
   "cell_type": "code",
   "execution_count": 131,
   "metadata": {},
   "outputs": [
    {
     "name": "stdout",
     "output_type": "stream",
     "text": [
      "torch.Size([10, 784])\n",
      "torch.Size([10])\n"
     ]
    }
   ],
   "source": [
    "print(list(model.parameters())[0].size())\n",
    "print(list(model.parameters())[1].size())"
   ]
  },
  {
   "cell_type": "code",
   "execution_count": 163,
   "metadata": {},
   "outputs": [
    {
     "name": "stdout",
     "output_type": "stream",
     "text": [
      "this is iteration 500\n",
      "Variable containing:\n",
      "-1.3751\n",
      "-2.7327\n",
      "-1.2083\n",
      "-4.0593\n",
      " 6.5169\n",
      "-1.6309\n",
      " 0.4034\n",
      " 0.6861\n",
      " 0.3140\n",
      " 2.8485\n",
      "[torch.FloatTensor of size 10]\n",
      "\n",
      "Iteration:500, Loss:\n",
      " 0.5305\n",
      "[torch.FloatTensor of size 1]\n",
      ",accuracy:89.83\n",
      "Iteration:1000, Loss:\n",
      " 0.3515\n",
      "[torch.FloatTensor of size 1]\n",
      ",accuracy:89.84\n",
      "Iteration:1500, Loss:\n",
      " 0.4143\n",
      "[torch.FloatTensor of size 1]\n",
      ",accuracy:89.87\n",
      "Iteration:2000, Loss:\n",
      " 0.3621\n",
      "[torch.FloatTensor of size 1]\n",
      ",accuracy:89.9\n",
      "Iteration:2500, Loss:\n",
      " 0.5099\n",
      "[torch.FloatTensor of size 1]\n",
      ",accuracy:89.87\n",
      "Iteration:3000, Loss:\n",
      " 0.3810\n",
      "[torch.FloatTensor of size 1]\n",
      ",accuracy:89.89\n"
     ]
    }
   ],
   "source": [
    "iter = 0\n",
    "for epoch in range(int(num_epochs)):\n",
    "    for i, (images, labels) in enumerate(train_loader):\n",
    "        images = Variable(images.view(-1, 28*28))\n",
    "        labels = Variable(labels)\n",
    "        \n",
    "        optimizer.zero_grad()\n",
    "        \n",
    "        \n",
    "        outputs = model(images)\n",
    "        \n",
    "        loss = criterion(outputs, labels)\n",
    "              \n",
    "        loss.backward()\n",
    "        optimizer.step()\n",
    "              \n",
    "        \n",
    "        iter = iter + 1\n",
    "        if (iter % 500 ==0):\n",
    "              correct = 0.0\n",
    "              total = 0.0 \n",
    "              for i, (images, labels) in enumerate(test_loader):\n",
    "                  images = Variable(images.view(-1, 28*28))\n",
    "                  outputs = model(images)\n",
    "                  labels2 = Variable(labels)\n",
    "                  _, predicted = torch.max(outputs, 1)\n",
    "                  total += labels.size(0) \n",
    "                  correct += (predicted.data == labels).sum()\n",
    "                  \n",
    "              if(iter==500):\n",
    "                    print(\"this is iteration 500\")\n",
    "                    print(outputs[0,:])\n",
    "              #print(\"Correct: {} \".format(correct))\n",
    "              #print(\"Total: {}\".format(total))\n",
    "              accuracy = 100.0 * correct*1.0/(1.0*total)\n",
    "              print(\"Iteration:{}, Loss:{},accuracy:{}\".format(iter, loss.data, accuracy) )\n",
    "                \n",
    "                    \n",
    "        \n",
    "        \n",
    "        \n",
    "        \n",
    "        "
   ]
  },
  {
   "cell_type": "code",
   "execution_count": 221,
   "metadata": {},
   "outputs": [
    {
     "name": "stdout",
     "output_type": "stream",
     "text": [
      "OUTPUTS\n",
      "torch.Size([100, 10])\n",
      "Variable containing:\n",
      "-1.0865\n",
      "-3.9861\n",
      " 0.7073\n",
      "-0.4841\n",
      " 1.3928\n",
      " 2.0924\n",
      " 5.5466\n",
      "-4.4300\n",
      " 0.9984\n",
      "-0.3656\n",
      "[torch.FloatTensor of size 10]\n",
      "\n",
      "PREDICTED\n",
      "6\n",
      "LABELS\n",
      "6\n"
     ]
    },
    {
     "data": {
      "image/png": "[encoded data removed]",
      "text/plain": [
       "<Figure size 432x288 with 1 Axes>"
      ]
     },
     "metadata": {},
     "output_type": "display_data"
    }
   ],
   "source": [
    "test_loader = torch.utils.data.DataLoader(dataset=test_dataset,\n",
    "                                          batch_size = batch_size,\n",
    "                                          shuffle=False)\n",
    "\n",
    "image_num=21\n",
    "iter_test=0\n",
    "for i, (images, labels) in enumerate(test_loader):\n",
    "     iter_test+=1\n",
    "     \n",
    "     images = Variable(images.view(-1, 28*28))\n",
    "     \n",
    "     outputs = model(images)\n",
    "     plt.imshow(images.data[image_num].numpy().reshape(28,28))\n",
    "     labels2 = Variable(labels)\n",
    "     _, predicted = torch.max(outputs, 1)\n",
    "     if(iter_test==1):\n",
    "        print(\"OUTPUTS\")\n",
    "        print(outputs.size())\n",
    "        \n",
    "        print(outputs[image_num,:])\n",
    "        _, predicted = torch.max(outputs.data,1)\n",
    "        print(\"PREDICTED\")\n",
    "        print(predicted[image_num])\n",
    "        print(\"LABELS\")\n",
    "        print(labels[image_num])\n",
    "        break\n",
    "        \n",
    "    "
   ]
  },
  {
   "cell_type": "code",
   "execution_count": null,
   "metadata": {},
   "outputs": [],
   "source": [
    "\n",
    "\\"
   ]
  },
  {
   "cell_type": "code",
   "execution_count": null,
   "metadata": {},
   "outputs": [],
   "source": []
  },
  {
   "cell_type": "code",
   "execution_count": null,
   "metadata": {},
   "outputs": [],
   "source": []
  },
  {
   "cell_type": "code",
   "execution_count": null,
   "metadata": {},
   "outputs": [],
   "source": []
  }
 ],
 "metadata": {
  "kernelspec": {
   "display_name": "Python 3",
   "language": "python",
   "name": "python3"
  },
  "language_info": {
   "codemirror_mode": {
    "name": "ipython",
    "version": 3
   },
   "file_extension": ".py",
   "mimetype": "text/x-python",
   "name": "python",
   "nbconvert_exporter": "python",
   "pygments_lexer": "ipython3",
   "version": "3.5.5"
  }
 },
 "nbformat": 4,
 "nbformat_minor": 2
}
