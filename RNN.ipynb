{
 "cells": [
  {
   "cell_type": "code",
   "execution_count": 1,
   "metadata": {},
   "outputs": [],
   "source": [
    "import torch\n",
    "import torch.nn as nn\n",
    "import torchvision.transforms as transforms\n",
    "import torchvision.datasets as dsets\n",
    "from torch.autograd import Variable\n",
    "import matplotlib.pyplot as plt\n",
    "%matplotlib inline\n",
    "import numpy as np"
   ]
  },
  {
   "cell_type": "code",
   "execution_count": 2,
   "metadata": {},
   "outputs": [],
   "source": [
    "train_dataset = dsets.MNIST(root=\"./data\",\n",
    "                           train=True,\n",
    "                           transform=transforms.ToTensor(),\n",
    "                           download=True)"
   ]
  },
  {
   "cell_type": "code",
   "execution_count": 3,
   "metadata": {},
   "outputs": [
    {
     "data": {
      "text/plain": [
       "60000"
      ]
     },
     "execution_count": 3,
     "metadata": {},
     "output_type": "execute_result"
    }
   ],
   "source": [
    "len(train_dataset)"
   ]
  },
  {
   "cell_type": "code",
   "execution_count": 4,
   "metadata": {},
   "outputs": [
    {
     "name": "stdout",
     "output_type": "stream",
     "text": [
      "1\n"
     ]
    },
    {
     "data": {
      "text/plain": [
       "<matplotlib.image.AxesImage at 0x119960a58>"
      ]
     },
     "execution_count": 4,
     "metadata": {},
     "output_type": "execute_result"
    },
    {
     "data": {
      "image/png": "[encoded data removed]",
      "text/plain": [
       "<Figure size 432x288 with 1 Axes>"
      ]
     },
     "metadata": {},
     "output_type": "display_data"
    }
   ],
   "source": [
    "show_img = train_dataset.train_data[6].numpy().reshape(28,28)\n",
    "label = train_dataset.train_labels[6]\n",
    "print(label)\n",
    "plt.imshow(show_img)\n"
   ]
  },
  {
   "cell_type": "code",
   "execution_count": 5,
   "metadata": {},
   "outputs": [],
   "source": [
    "test_dataset = dsets.MNIST(\"./data\",\n",
    "                          train=False,\n",
    "                          transform = transforms.ToTensor(),\n",
    "                          download=True)"
   ]
  },
  {
   "cell_type": "code",
   "execution_count": 6,
   "metadata": {},
   "outputs": [
    {
     "data": {
      "text/plain": [
       "10000"
      ]
     },
     "execution_count": 6,
     "metadata": {},
     "output_type": "execute_result"
    }
   ],
   "source": [
    "len(test_dataset)"
   ]
  },
  {
   "cell_type": "code",
   "execution_count": 7,
   "metadata": {},
   "outputs": [
    {
     "name": "stdout",
     "output_type": "stream",
     "text": [
      "9\n"
     ]
    },
    {
     "data": {
      "text/plain": [
       "<matplotlib.image.AxesImage at 0x119a517f0>"
      ]
     },
     "execution_count": 7,
     "metadata": {},
     "output_type": "execute_result"
    },
    {
     "data": {
      "image/png": "[encoded data removed]",
      "text/plain": [
       "<Figure size 432x288 with 1 Axes>"
      ]
     },
     "metadata": {},
     "output_type": "display_data"
    }
   ],
   "source": [
    "show_img = test_dataset.test_data[7].numpy().reshape(28,28)\n",
    "label = test_dataset.test_labels[7]\n",
    "print(label)\n",
    "plt.imshow(show_img)\n"
   ]
  },
  {
   "cell_type": "code",
   "execution_count": 8,
   "metadata": {},
   "outputs": [
    {
     "data": {
      "text/plain": [
       "torch.Size([28, 28])"
      ]
     },
     "execution_count": 8,
     "metadata": {},
     "output_type": "execute_result"
    }
   ],
   "source": [
    "test_dataset.test_data[1].size()"
   ]
  },
  {
   "cell_type": "code",
   "execution_count": 9,
   "metadata": {},
   "outputs": [
    {
     "name": "stdout",
     "output_type": "stream",
     "text": [
      "5.0\n"
     ]
    }
   ],
   "source": [
    "batch_size=100\n",
    "n_iters=3000\n",
    "num_epochs = n_iters / (len(train_dataset)/batch_size)\n",
    "print(num_epochs)"
   ]
  },
  {
   "cell_type": "code",
   "execution_count": 10,
   "metadata": {},
   "outputs": [],
   "source": [
    "train_loader = torch.utils.data.DataLoader(dataset=train_dataset,\n",
    "                                          batch_size = batch_size,\n",
    "                                          shuffle=True)\n",
    "\n",
    "\n",
    "test_loader = torch.utils.data.DataLoader(dataset=test_dataset,\n",
    "                                          batch_size = batch_size,\n",
    "                                          shuffle=False)"
   ]
  },
  {
   "cell_type": "code",
   "execution_count": 11,
   "metadata": {},
   "outputs": [],
   "source": [
    "import collections"
   ]
  },
  {
   "cell_type": "code",
   "execution_count": 12,
   "metadata": {},
   "outputs": [
    {
     "data": {
      "text/plain": [
       "True"
      ]
     },
     "execution_count": 12,
     "metadata": {},
     "output_type": "execute_result"
    }
   ],
   "source": [
    "isinstance(train_loader, collections.Iterable)"
   ]
  },
  {
   "cell_type": "code",
   "execution_count": 13,
   "metadata": {},
   "outputs": [],
   "source": [
    "class RNNModel(nn.Module):\n",
    "    def __init__(self, input_dim, hidden_dim, layer_dim, output_dim):\n",
    "        super(RNNModel, self).__init__()\n",
    "        self.hidden_dim = hidden_dim\n",
    "        self.layer_dim = layer_dim\n",
    "        \n",
    "        self.rnn = nn.RNN(input_dim, hidden_dim, layer_dim, batch_first=True, nonlinearity='tanh')\n",
    "        self.fc = nn.Linear(hidden_dim, output_dim)\n",
    "        \n",
    "    def forward(self, x):\n",
    "        h0 = Variable(torch.zeros(self.layer_dim, x.size(0), self.hidden_dim))\n",
    "        out, hn = self.rnn(x, h0)\n",
    "        out = self.fc(out[:,-1,:])\n",
    "        return out\n",
    "        "
   ]
  },
  {
   "cell_type": "code",
   "execution_count": 23,
   "metadata": {},
   "outputs": [],
   "source": [
    "input_dim = 28\n",
    "hidden_dim=100\n",
    "layer_dim=2\n",
    "output_dim = 10\n",
    "model = RNNModel(input_dim, hidden_dim, layer_dim, output_dim)"
   ]
  },
  {
   "cell_type": "code",
   "execution_count": 24,
   "metadata": {},
   "outputs": [],
   "source": [
    "criterion = nn.CrossEntropyLoss()"
   ]
  },
  {
   "cell_type": "code",
   "execution_count": 25,
   "metadata": {},
   "outputs": [],
   "source": [
    "learning_rate = 0.1\n",
    "optimizer = torch.optim.SGD(model.parameters(), lr=learning_rate)"
   ]
  },
  {
   "cell_type": "code",
   "execution_count": 26,
   "metadata": {},
   "outputs": [
    {
     "name": "stdout",
     "output_type": "stream",
     "text": [
      "torch.Size([100, 28])\n",
      "torch.Size([100, 100])\n"
     ]
    }
   ],
   "source": [
    "print(list(model.parameters())[0].size())\n",
    "print(list(model.parameters())[1].size())"
   ]
  },
  {
   "cell_type": "code",
   "execution_count": 27,
   "metadata": {},
   "outputs": [
    {
     "name": "stdout",
     "output_type": "stream",
     "text": [
      "this is iteration 500\n",
      "Variable containing:\n",
      " 0.9528\n",
      " 0.3176\n",
      "-0.0089\n",
      "-0.1837\n",
      "-0.8443\n",
      " 0.6351\n",
      "-0.1276\n",
      "-3.3194\n",
      " 4.1211\n",
      "-2.6525\n",
      "[torch.FloatTensor of size 10]\n",
      "\n",
      "Iteration:500, Loss:\n",
      " 0.7756\n",
      "[torch.FloatTensor of size 1]\n",
      ",accuracy:77.7\n",
      "Iteration:1000, Loss:\n",
      " 0.2343\n",
      "[torch.FloatTensor of size 1]\n",
      ",accuracy:88.65\n",
      "Iteration:1500, Loss:\n",
      " 0.9323\n",
      "[torch.FloatTensor of size 1]\n",
      ",accuracy:84.54\n",
      "Iteration:2000, Loss:\n",
      " 0.3054\n",
      "[torch.FloatTensor of size 1]\n",
      ",accuracy:92.92\n",
      "Iteration:2500, Loss:\n",
      " 0.2837\n",
      "[torch.FloatTensor of size 1]\n",
      ",accuracy:94.48\n",
      "Iteration:3000, Loss:\n",
      " 0.2789\n",
      "[torch.FloatTensor of size 1]\n",
      ",accuracy:94.24\n"
     ]
    }
   ],
   "source": [
    "seq_dim=28\n",
    "iter = 0\n",
    "for epoch in range(int(num_epochs)):\n",
    "    for i, (images, labels) in enumerate(train_loader):\n",
    "        images = Variable(images.view(-1, seq_dim, input_dim))\n",
    "        labels = Variable(labels)\n",
    "        \n",
    "        optimizer.zero_grad()\n",
    "        \n",
    "        \n",
    "        outputs = model(images)\n",
    "        \n",
    "        loss = criterion(outputs, labels)\n",
    "              \n",
    "        loss.backward()\n",
    "        optimizer.step()\n",
    "              \n",
    "        \n",
    "        iter = iter + 1\n",
    "        if (iter % 500 ==0):\n",
    "              correct = 0.0\n",
    "              total = 0.0 \n",
    "              for i, (images, labels) in enumerate(test_loader):\n",
    "                  images = Variable(images.view(-1, seq_dim, input_dim))\n",
    "                  outputs = model(images)\n",
    "                  labels2 = Variable(labels)\n",
    "                  _, predicted = torch.max(outputs, 1)\n",
    "                  total += labels.size(0) \n",
    "                  correct += (predicted.data == labels).sum()\n",
    "                  \n",
    "              if(iter==500):\n",
    "                    print(\"this is iteration 500\")\n",
    "                    print(outputs[0,:])\n",
    "              #print(\"Correct: {} \".format(correct))\n",
    "              #print(\"Total: {}\".format(total))\n",
    "              accuracy = 100.0 * correct*1.0/(1.0*total)\n",
    "              print(\"Iteration:{}, Loss:{},accuracy:{}\".format(iter, loss.data, accuracy) )\n",
    "                \n",
    "                    \n",
    "        \n",
    "        \n",
    "        \n",
    "        \n",
    "        "
   ]
  },
  {
   "cell_type": "code",
   "execution_count": 22,
   "metadata": {},
   "outputs": [
    {
     "name": "stdout",
     "output_type": "stream",
     "text": [
      "OUTPUTS\n",
      "torch.Size([100, 10])\n",
      "Variable containing:\n",
      " 5.6511\n",
      "-3.0404\n",
      " 0.0773\n",
      "-5.4310\n",
      " 0.5798\n",
      " 2.0044\n",
      " 5.7226\n",
      "-2.5943\n",
      " 0.3549\n",
      "-1.1251\n",
      "[torch.FloatTensor of size 10]\n",
      "\n",
      "PREDICTED\n",
      "6\n",
      "LABELS\n",
      "6\n"
     ]
    },
    {
     "data": {
      "image/png": "[encoded data removed]",
      "text/plain": [
       "<Figure size 432x288 with 1 Axes>"
      ]
     },
     "metadata": {},
     "output_type": "display_data"
    }
   ],
   "source": [
    "test_loader = torch.utils.data.DataLoader(dataset=test_dataset,\n",
    "                                          batch_size = batch_size,\n",
    "                                          shuffle=False)\n",
    "\n",
    "image_num=50\n",
    "iter_test=0\n",
    "for i, (images, labels) in enumerate(test_loader):\n",
    "     iter_test+=1\n",
    "     \n",
    "     images = Variable(images.view(-1, seq_dim, input_dim))\n",
    "     \n",
    "     outputs = model(images)\n",
    "     plt.imshow(images.data[image_num].numpy().reshape(28,28))\n",
    "     labels2 = Variable(labels)\n",
    "     _, predicted = torch.max(outputs, 1)\n",
    "     if(iter_test==1):\n",
    "        print(\"OUTPUTS\")\n",
    "        print(outputs.size())\n",
    "        \n",
    "        print(outputs[image_num,:])\n",
    "        _, predicted = torch.max(outputs.data,1)\n",
    "        print(\"PREDICTED\")\n",
    "        print(predicted[image_num])\n",
    "        print(\"LABELS\")\n",
    "        print(labels[image_num])\n",
    "        break\n",
    "        \n",
    "    "
   ]
  },
  {
   "cell_type": "code",
   "execution_count": 20,
   "metadata": {},
   "outputs": [],
   "source": [
    "\n",
    "\\"
   ]
  },
  {
   "cell_type": "code",
   "execution_count": null,
   "metadata": {},
   "outputs": [],
   "source": []
  },
  {
   "cell_type": "code",
   "execution_count": null,
   "metadata": {},
   "outputs": [],
   "source": []
  },
  {
   "cell_type": "code",
   "execution_count": null,
   "metadata": {},
   "outputs": [],
   "source": []
  }
 ],
 "metadata": {
  "kernelspec": {
   "display_name": "Python 3",
   "language": "python",
   "name": "python3"
  },
  "language_info": {
   "codemirror_mode": {
    "name": "ipython",
    "version": 3
   },
   "file_extension": ".py",
   "mimetype": "text/x-python",
   "name": "python",
   "nbconvert_exporter": "python",
   "pygments_lexer": "ipython3",
   "version": "3.5.5"
  }
 },
 "nbformat": 4,
 "nbformat_minor": 2
}
