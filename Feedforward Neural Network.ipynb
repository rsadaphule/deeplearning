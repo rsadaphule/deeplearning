{
 "cells": [
  {
   "cell_type": "code",
   "execution_count": 1,
   "metadata": {},
   "outputs": [],
   "source": [
    "import torch\n",
    "import torch.nn as nn\n",
    "import torchvision.transforms as transforms\n",
    "import torchvision.datasets as dsets\n",
    "from torch.autograd import Variable\n",
    "import matplotlib.pyplot as plt\n",
    "%matplotlib inline\n",
    "import numpy as np"
   ]
  },
  {
   "cell_type": "code",
   "execution_count": 2,
   "metadata": {},
   "outputs": [],
   "source": [
    "train_dataset = dsets.MNIST(root=\"./data\",\n",
    "                           train=True,\n",
    "                           transform=transforms.ToTensor(),\n",
    "                           download=True)"
   ]
  },
  {
   "cell_type": "code",
   "execution_count": 3,
   "metadata": {},
   "outputs": [
    {
     "data": {
      "text/plain": [
       "60000"
      ]
     },
     "execution_count": 3,
     "metadata": {},
     "output_type": "execute_result"
    }
   ],
   "source": [
    "len(train_dataset)"
   ]
  },
  {
   "cell_type": "code",
   "execution_count": 4,
   "metadata": {},
   "outputs": [
    {
     "name": "stdout",
     "output_type": "stream",
     "text": [
      "2\n"
     ]
    },
    {
     "data": {
      "text/plain": [
       "<matplotlib.image.AxesImage at 0x10f402b38>"
      ]
     },
     "execution_count": 4,
     "metadata": {},
     "output_type": "execute_result"
    },
    {
     "data": {
      "image/png": "[encoded data removed]",
      "text/plain": [
       "<Figure size 432x288 with 1 Axes>"
      ]
     },
     "metadata": {},
     "output_type": "display_data"
    }
   ],
   "source": [
    "show_img = train_dataset.train_data[5].numpy().reshape(28,28)\n",
    "label = train_dataset.train_labels[5]\n",
    "print(label)\n",
    "plt.imshow(show_img)\n"
   ]
  },
  {
   "cell_type": "code",
   "execution_count": 5,
   "metadata": {},
   "outputs": [],
   "source": [
    "test_dataset = dsets.MNIST(\"./data\",\n",
    "                          train=False,\n",
    "                          transform = transforms.ToTensor(),\n",
    "                          download=True)"
   ]
  },
  {
   "cell_type": "code",
   "execution_count": 6,
   "metadata": {},
   "outputs": [
    {
     "data": {
      "text/plain": [
       "10000"
      ]
     },
     "execution_count": 6,
     "metadata": {},
     "output_type": "execute_result"
    }
   ],
   "source": [
    "len(test_dataset)"
   ]
  },
  {
   "cell_type": "code",
   "execution_count": 7,
   "metadata": {},
   "outputs": [
    {
     "name": "stdout",
     "output_type": "stream",
     "text": [
      "9\n"
     ]
    },
    {
     "data": {
      "text/plain": [
       "<matplotlib.image.AxesImage at 0x10f4ed400>"
      ]
     },
     "execution_count": 7,
     "metadata": {},
     "output_type": "execute_result"
    },
    {
     "data": {
      "image/png": "[encoded data removed]",
      "text/plain": [
       "<Figure size 432x288 with 1 Axes>"
      ]
     },
     "metadata": {},
     "output_type": "display_data"
    }
   ],
   "source": [
    "show_img = test_dataset.test_data[7].numpy().reshape(28,28)\n",
    "label = test_dataset.test_labels[7]\n",
    "print(label)\n",
    "plt.imshow(show_img)\n"
   ]
  },
  {
   "cell_type": "code",
   "execution_count": 8,
   "metadata": {},
   "outputs": [
    {
     "data": {
      "text/plain": [
       "torch.Size([28, 28])"
      ]
     },
     "execution_count": 8,
     "metadata": {},
     "output_type": "execute_result"
    }
   ],
   "source": [
    "test_dataset.test_data[1].size()"
   ]
  },
  {
   "cell_type": "code",
   "execution_count": 9,
   "metadata": {},
   "outputs": [
    {
     "name": "stdout",
     "output_type": "stream",
     "text": [
      "5.0\n"
     ]
    }
   ],
   "source": [
    "batch_size=100\n",
    "n_iters=3000\n",
    "num_epochs = n_iters / (len(train_dataset)/batch_size)\n",
    "print(num_epochs)"
   ]
  },
  {
   "cell_type": "code",
   "execution_count": 10,
   "metadata": {},
   "outputs": [],
   "source": [
    "train_loader = torch.utils.data.DataLoader(dataset=train_dataset,\n",
    "                                          batch_size = batch_size,\n",
    "                                          shuffle=True)\n",
    "\n",
    "\n",
    "test_loader = torch.utils.data.DataLoader(dataset=test_dataset,\n",
    "                                          batch_size = batch_size,\n",
    "                                          shuffle=True)"
   ]
  },
  {
   "cell_type": "code",
   "execution_count": 11,
   "metadata": {},
   "outputs": [],
   "source": [
    "import collections"
   ]
  },
  {
   "cell_type": "code",
   "execution_count": 12,
   "metadata": {},
   "outputs": [
    {
     "data": {
      "text/plain": [
       "True"
      ]
     },
     "execution_count": 12,
     "metadata": {},
     "output_type": "execute_result"
    }
   ],
   "source": [
    "isinstance(train_loader, collections.Iterable)"
   ]
  },
  {
   "cell_type": "code",
   "execution_count": 47,
   "metadata": {},
   "outputs": [],
   "source": [
    "class FeedForwardNeuralNetworkModel(nn.Module):\n",
    "    def __init__(self, input_dim, hidden_size, output_dim):\n",
    "        super(FeedForwardNeuralNetworkModel, self).__init__()\n",
    "        self.fc1 = nn.Linear(input_dim, hidden_size)\n",
    "        self.relu1 = nn.ReLU()\n",
    "        \n",
    "        \n",
    "        self.fc2 = nn.Linear(hidden_size, hidden_size)\n",
    "        self.relu2 = nn.ReLU()\n",
    "        \n",
    "        self.fc3 = nn.Linear(hidden_size, output_dim)\n",
    "        \n",
    "    def forward(self, x):\n",
    "        out = self.fc1(x)\n",
    "        out = self.relu1(out)\n",
    "        \n",
    "        out = self.fc2(out)\n",
    "        out = self.relu2(out)\n",
    "        \n",
    "        \n",
    "        out = self.fc3(out)\n",
    "        \n",
    "        \n",
    "        return out\n",
    "        "
   ]
  },
  {
   "cell_type": "code",
   "execution_count": 48,
   "metadata": {},
   "outputs": [],
   "source": [
    "input_dim = 28*28\n",
    "hidden_size=100\n",
    "output_dim = 10\n",
    "model = FeedForwardNeuralNetworkModel(input_dim, hidden_size, output_dim)"
   ]
  },
  {
   "cell_type": "code",
   "execution_count": 49,
   "metadata": {},
   "outputs": [],
   "source": [
    "criterion = nn.CrossEntropyLoss()"
   ]
  },
  {
   "cell_type": "code",
   "execution_count": 50,
   "metadata": {},
   "outputs": [],
   "source": [
    "learning_rate = 0.1\n",
    "optimizer = torch.optim.SGD(model.parameters(), lr=learning_rate)"
   ]
  },
  {
   "cell_type": "code",
   "execution_count": 51,
   "metadata": {},
   "outputs": [
    {
     "name": "stdout",
     "output_type": "stream",
     "text": [
      "torch.Size([100, 784])\n",
      "torch.Size([100])\n"
     ]
    }
   ],
   "source": [
    "print(list(model.parameters())[0].size())\n",
    "print(list(model.parameters())[1].size())"
   ]
  },
  {
   "cell_type": "code",
   "execution_count": 52,
   "metadata": {},
   "outputs": [
    {
     "name": "stdout",
     "output_type": "stream",
     "text": [
      "this is iteration 500\n",
      "Variable containing:\n",
      "-1.2196\n",
      "-0.0436\n",
      "-0.0578\n",
      " 1.6402\n",
      "-2.5003\n",
      " 2.5303\n",
      "-1.1618\n",
      "-3.8635\n",
      " 5.8804\n",
      "-0.6553\n",
      "[torch.FloatTensor of size 10]\n",
      "\n",
      "Iteration:500, Loss:\n",
      " 0.4725\n",
      "[torch.FloatTensor of size 1]\n",
      ",accuracy:89.78\n",
      "Iteration:1000, Loss:\n",
      " 0.2375\n",
      "[torch.FloatTensor of size 1]\n",
      ",accuracy:93.74\n",
      "Iteration:1500, Loss:\n",
      "1.00000e-02 *\n",
      "  7.8203\n",
      "[torch.FloatTensor of size 1]\n",
      ",accuracy:95.14\n",
      "Iteration:2000, Loss:\n",
      " 0.1076\n",
      "[torch.FloatTensor of size 1]\n",
      ",accuracy:95.35\n",
      "Iteration:2500, Loss:\n",
      "1.00000e-02 *\n",
      "  9.8585\n",
      "[torch.FloatTensor of size 1]\n",
      ",accuracy:96.39\n",
      "Iteration:3000, Loss:\n",
      "1.00000e-02 *\n",
      "  6.9916\n",
      "[torch.FloatTensor of size 1]\n",
      ",accuracy:96.52\n"
     ]
    }
   ],
   "source": [
    "iter = 0\n",
    "for epoch in range(int(num_epochs)):\n",
    "    for i, (images, labels) in enumerate(train_loader):\n",
    "        images = Variable(images.view(-1, 28*28))\n",
    "        labels = Variable(labels)\n",
    "        \n",
    "        optimizer.zero_grad()\n",
    "        \n",
    "        \n",
    "        outputs = model(images)\n",
    "        \n",
    "        loss = criterion(outputs, labels)\n",
    "              \n",
    "        loss.backward()\n",
    "        optimizer.step()\n",
    "              \n",
    "        \n",
    "        iter = iter + 1\n",
    "        if (iter % 500 ==0):\n",
    "              correct = 0.0\n",
    "              total = 0.0 \n",
    "              for i, (images, labels) in enumerate(test_loader):\n",
    "                  images = Variable(images.view(-1, 28*28))\n",
    "                  outputs = model(images)\n",
    "                  labels2 = Variable(labels)\n",
    "                  _, predicted = torch.max(outputs, 1)\n",
    "                  total += labels.size(0) \n",
    "                  correct += (predicted.data == labels).sum()\n",
    "                  \n",
    "              if(iter==500):\n",
    "                    print(\"this is iteration 500\")\n",
    "                    print(outputs[0,:])\n",
    "              #print(\"Correct: {} \".format(correct))\n",
    "              #print(\"Total: {}\".format(total))\n",
    "              accuracy = 100.0 * correct*1.0/(1.0*total)\n",
    "              print(\"Iteration:{}, Loss:{},accuracy:{}\".format(iter, loss.data, accuracy) )\n",
    "                \n",
    "                    \n",
    "        \n",
    "        \n",
    "        \n",
    "        \n",
    "        "
   ]
  },
  {
   "cell_type": "code",
   "execution_count": 54,
   "metadata": {},
   "outputs": [
    {
     "name": "stdout",
     "output_type": "stream",
     "text": [
      "OUTPUTS\n",
      "torch.Size([100, 10])\n",
      "Variable containing:\n",
      " 1.2801\n",
      "-1.3909\n",
      "-2.2512\n",
      "-0.2965\n",
      "-0.5763\n",
      " 8.5497\n",
      "-0.9117\n",
      "-2.5923\n",
      "-1.5450\n",
      "-0.0568\n",
      "[torch.FloatTensor of size 10]\n",
      "\n",
      "PREDICTED\n",
      "5\n",
      "LABELS\n",
      "5\n"
     ]
    },
    {
     "data": {
      "image/png": "[encoded data removed]",
      "text/plain": [
       "<Figure size 432x288 with 1 Axes>"
      ]
     },
     "metadata": {},
     "output_type": "display_data"
    }
   ],
   "source": [
    "test_loader = torch.utils.data.DataLoader(dataset=test_dataset,\n",
    "                                          batch_size = batch_size,\n",
    "                                          shuffle=False)\n",
    "\n",
    "image_num=52\n",
    "iter_test=0\n",
    "for i, (images, labels) in enumerate(test_loader):\n",
    "     iter_test+=1\n",
    "     \n",
    "     images = Variable(images.view(-1, 28*28))\n",
    "     \n",
    "     outputs = model(images)\n",
    "     plt.imshow(images.data[image_num].numpy().reshape(28,28))\n",
    "     labels2 = Variable(labels)\n",
    "     _, predicted = torch.max(outputs, 1)\n",
    "     if(iter_test==1):\n",
    "        print(\"OUTPUTS\")\n",
    "        print(outputs.size())\n",
    "        \n",
    "        print(outputs[image_num,:])\n",
    "        _, predicted = torch.max(outputs.data,1)\n",
    "        print(\"PREDICTED\")\n",
    "        print(predicted[image_num])\n",
    "        print(\"LABELS\")\n",
    "        print(labels[image_num])\n",
    "        break\n",
    "        \n",
    "    "
   ]
  },
  {
   "cell_type": "code",
   "execution_count": 37,
   "metadata": {},
   "outputs": [],
   "source": [
    "\n",
    "\\"
   ]
  },
  {
   "cell_type": "code",
   "execution_count": null,
   "metadata": {},
   "outputs": [],
   "source": []
  },
  {
   "cell_type": "code",
   "execution_count": null,
   "metadata": {},
   "outputs": [],
   "source": []
  },
  {
   "cell_type": "code",
   "execution_count": null,
   "metadata": {},
   "outputs": [],
   "source": []
  }
 ],
 "metadata": {
  "kernelspec": {
   "display_name": "Python 3",
   "language": "python",
   "name": "python3"
  },
  "language_info": {
   "codemirror_mode": {
    "name": "ipython",
    "version": 3
   },
   "file_extension": ".py",
   "mimetype": "text/x-python",
   "name": "python",
   "nbconvert_exporter": "python",
   "pygments_lexer": "ipython3",
   "version": "3.5.5"
  }
 },
 "nbformat": 4,
 "nbformat_minor": 2
}
